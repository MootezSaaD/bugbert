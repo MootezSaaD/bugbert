{
 "cells": [
  {
   "cell_type": "code",
   "execution_count": 20,
   "metadata": {},
   "outputs": [],
   "source": [
    "import pandas as pd\n",
    "\n",
    "jira_df = pd.read_csv('./data/issues_jira.csv', encoding=\"UTF-8\", low_memory=False, sep=';')\n",
    "jira_links_df = pd.read_csv('./data/links_jira.csv', encoding=\"UTF-8\", low_memory=False, sep=';')\n",
    "\n",
    "mongodb_df = pd.read_csv('./data/issues_mongodb.csv', encoding=\"UTF-8\", low_memory=False, sep=';')\n",
    "mongodb_links_df = pd.read_csv('./data/links_mongodb.csv', encoding=\"UTF-8\", low_memory=False, sep=';')\n",
    "\n",
    "hyperledger_df = pd.read_csv('./data/issues_hyperledger.csv', encoding=\"UTF-8\", low_memory=False, sep=';')\n",
    "hyperledger_links_df = pd.read_csv('./data/links_hyperledger.csv', encoding=\"UTF-8\", low_memory=False, sep=';')"
   ]
  },
  {
   "cell_type": "markdown",
   "metadata": {},
   "source": [
    "### Conversion of Issues into JSONL File"
   ]
  },
  {
   "cell_type": "code",
   "execution_count": 21,
   "metadata": {},
   "outputs": [],
   "source": [
    "# Extract title, description and issue_id from the dataframes\n",
    "jira_df = jira_df[['issue_id', 'title', 'description']]\n",
    "mongodb_df = mongodb_df[['issue_id', 'title', 'description']]\n",
    "hyperledger_df = hyperledger_df[['issue_id', 'title', 'description']]"
   ]
  },
  {
   "cell_type": "code",
   "execution_count": 22,
   "metadata": {},
   "outputs": [],
   "source": [
    "# Convert the dataframe into an array of jsonl objects\n",
    "jira_df = jira_df.to_json(orient='records', lines = True)\n",
    "mongodb_df = mongodb_df.to_json(orient='records', lines = True)\n",
    "hyperledger_df = hyperledger_df.to_json(orient='records', lines = True)"
   ]
  },
  {
   "cell_type": "code",
   "execution_count": 23,
   "metadata": {},
   "outputs": [],
   "source": [
    "# Save it into a JSONL File\n",
    "with open('./data/issues_jira.jsonl', 'w') as f:\n",
    "    f.write(jira_df)\n",
    "\n",
    "with open('./data/issues_mongodb.jsonl', 'w') as f:\n",
    "    f.write(mongodb_df)\n",
    "\n",
    "with open('./data/issues_hyperledger.jsonl', 'w') as f:\n",
    "    f.write(hyperledger_df)"
   ]
  },
  {
   "cell_type": "markdown",
   "metadata": {},
   "source": [
    "### Conversion of Links into JSONL File"
   ]
  },
  {
   "cell_type": "code",
   "execution_count": 24,
   "metadata": {},
   "outputs": [],
   "source": [
    "# Remove any linktype which is not Duplicate, and remove records which have duplicate name\n",
    "jira_links_df = jira_links_df[jira_links_df['linktype'] == 'Duplicate']\n",
    "jira_links_df = jira_links_df.drop_duplicates(subset=['name'])\n",
    "\n",
    "mongodb_links_df = mongodb_links_df[mongodb_links_df['linktype'] == 'Duplicate']\n",
    "mongodb_links_df = mongodb_links_df.drop_duplicates(subset=['name'])\n",
    "\n",
    "hyperledger_links_df = hyperledger_links_df[hyperledger_links_df['linktype'] == 'Duplicate']\n",
    "hyperledger_links_df = hyperledger_links_df.drop_duplicates(subset=['name'])"
   ]
  },
  {
   "cell_type": "code",
   "execution_count": 25,
   "metadata": {},
   "outputs": [],
   "source": [
    "# Drop name and linktype\n",
    "jira_links_df = jira_links_df[['issue_id_1', 'issue_id_2']]\n",
    "mongodb_links_df = mongodb_links_df[['issue_id_1', 'issue_id_2']]\n",
    "hyperledger_links_df = hyperledger_links_df[['issue_id_1', 'issue_id_2']]"
   ]
  },
  {
   "cell_type": "code",
   "execution_count": 26,
   "metadata": {},
   "outputs": [],
   "source": [
    "# Convert the dataframe into an array of jsonl objects\n",
    "jira_links_df = jira_links_df.to_json(orient='records', lines = True)\n",
    "mongodb_links_df = mongodb_links_df.to_json(orient='records', lines = True)\n",
    "hyperledger_links_df = hyperledger_links_df.to_json(orient='records', lines = True)"
   ]
  },
  {
   "cell_type": "code",
   "execution_count": 27,
   "metadata": {},
   "outputs": [],
   "source": [
    "# Save it into a JSONL File\n",
    "with open('./data/links_jira.jsonl', 'w') as f:\n",
    "    f.write(jira_links_df)\n",
    "\n",
    "with open('./data/links_mongodb.jsonl', 'w') as f:\n",
    "    f.write(mongodb_links_df)\n",
    "\n",
    "with open('./data/links_hyperledger.jsonl', 'w') as f:\n",
    "    f.write(hyperledger_links_df)"
   ]
  }
 ],
 "metadata": {
  "kernelspec": {
   "display_name": "venv",
   "language": "python",
   "name": "python3"
  },
  "language_info": {
   "codemirror_mode": {
    "name": "ipython",
    "version": 3
   },
   "file_extension": ".py",
   "mimetype": "text/x-python",
   "name": "python",
   "nbconvert_exporter": "python",
   "pygments_lexer": "ipython3",
   "version": "3.10.4"
  },
  "orig_nbformat": 4
 },
 "nbformat": 4,
 "nbformat_minor": 2
}
