{
  "nbformat": 4,
  "nbformat_minor": 0,
  "metadata": {
    "colab": {
      "provenance": []
    },
    "kernelspec": {
      "name": "python3",
      "display_name": "Python 3"
    },
    "language_info": {
      "name": "python"
    }
  },
  "cells": [
    {
      "cell_type": "code",
      "source": [
        "!pip install transformers"
      ],
      "metadata": {
        "colab": {
          "base_uri": "https://localhost:8080/"
        },
        "id": "B340OKq192de",
        "outputId": "1863519c-abcd-4939-e973-79d04c29fa66"
      },
      "execution_count": 2,
      "outputs": [
        {
          "output_type": "stream",
          "name": "stdout",
          "text": [
            "Requirement already satisfied: transformers in /usr/local/lib/python3.10/dist-packages (4.31.0)\n",
            "Requirement already satisfied: filelock in /usr/local/lib/python3.10/dist-packages (from transformers) (3.12.2)\n",
            "Requirement already satisfied: huggingface-hub<1.0,>=0.14.1 in /usr/local/lib/python3.10/dist-packages (from transformers) (0.16.4)\n",
            "Requirement already satisfied: numpy>=1.17 in /usr/local/lib/python3.10/dist-packages (from transformers) (1.22.4)\n",
            "Requirement already satisfied: packaging>=20.0 in /usr/local/lib/python3.10/dist-packages (from transformers) (23.1)\n",
            "Requirement already satisfied: pyyaml>=5.1 in /usr/local/lib/python3.10/dist-packages (from transformers) (6.0)\n",
            "Requirement already satisfied: regex!=2019.12.17 in /usr/local/lib/python3.10/dist-packages (from transformers) (2022.10.31)\n",
            "Requirement already satisfied: requests in /usr/local/lib/python3.10/dist-packages (from transformers) (2.27.1)\n",
            "Requirement already satisfied: tokenizers!=0.11.3,<0.14,>=0.11.1 in /usr/local/lib/python3.10/dist-packages (from transformers) (0.13.3)\n",
            "Requirement already satisfied: safetensors>=0.3.1 in /usr/local/lib/python3.10/dist-packages (from transformers) (0.3.1)\n",
            "Requirement already satisfied: tqdm>=4.27 in /usr/local/lib/python3.10/dist-packages (from transformers) (4.65.0)\n",
            "Requirement already satisfied: fsspec in /usr/local/lib/python3.10/dist-packages (from huggingface-hub<1.0,>=0.14.1->transformers) (2023.6.0)\n",
            "Requirement already satisfied: typing-extensions>=3.7.4.3 in /usr/local/lib/python3.10/dist-packages (from huggingface-hub<1.0,>=0.14.1->transformers) (4.7.1)\n",
            "Requirement already satisfied: urllib3<1.27,>=1.21.1 in /usr/local/lib/python3.10/dist-packages (from requests->transformers) (1.26.16)\n",
            "Requirement already satisfied: certifi>=2017.4.17 in /usr/local/lib/python3.10/dist-packages (from requests->transformers) (2023.5.7)\n",
            "Requirement already satisfied: charset-normalizer~=2.0.0 in /usr/local/lib/python3.10/dist-packages (from requests->transformers) (2.0.12)\n",
            "Requirement already satisfied: idna<4,>=2.5 in /usr/local/lib/python3.10/dist-packages (from requests->transformers) (3.4)\n"
          ]
        }
      ]
    },
    {
      "cell_type": "code",
      "execution_count": 3,
      "metadata": {
        "colab": {
          "base_uri": "https://localhost:8080/"
        },
        "id": "Skfbq2EL9x6H",
        "outputId": "9803ef8e-d778-428c-b8c4-f08602903d1b"
      },
      "outputs": [
        {
          "output_type": "stream",
          "name": "stderr",
          "text": [
            "Some weights of the model checkpoint at distilroberta-base were not used when initializing RobertaForMaskedLM: ['roberta.pooler.dense.bias', 'roberta.pooler.dense.weight']\n",
            "- This IS expected if you are initializing RobertaForMaskedLM from the checkpoint of a model trained on another task or with another architecture (e.g. initializing a BertForSequenceClassification model from a BertForPreTraining model).\n",
            "- This IS NOT expected if you are initializing RobertaForMaskedLM from the checkpoint of a model that you expect to be exactly identical (initializing a BertForSequenceClassification model from a BertForSequenceClassification model).\n"
          ]
        }
      ],
      "source": [
        "# Load model directly\n",
        "from transformers import AutoTokenizer, AutoModelForMaskedLM\n",
        "\n",
        "tokenizer = AutoTokenizer.from_pretrained(\"distilroberta-base\")\n",
        "model = AutoModelForMaskedLM.from_pretrained(\"distilroberta-base\")"
      ]
    },
    {
      "cell_type": "code",
      "source": [
        "from sklearn.metrics.pairwise import cosine_similarity\n",
        "import numpy as np\n",
        "\n",
        "import json\n",
        "\n",
        "# Lists to store titles and descriptions\n",
        "titles = []\n",
        "descriptions = []\n",
        "\n",
        "# Replace \"data.jsonl\" with the actual path to your JSONL file\n",
        "with open(\"issues_hyperledger.jsonl\", \"r\") as file:\n",
        "    for line in file:\n",
        "        data = json.loads(line)\n",
        "        if(data[\"title\"] and data[\"description\"]):\n",
        "          titles.append(data[\"title\"])\n",
        "          descriptions.append(data[\"description\"])\n",
        "\n",
        "# Printing the extracted titles and descriptions\n",
        "print(\"Titles:\", titles[:5])\n",
        "print(\"Descriptions:\", descriptions[:5])\n"
      ],
      "metadata": {
        "colab": {
          "base_uri": "https://localhost:8080/"
        },
        "id": "_bIVM_2y-eCJ",
        "outputId": "9db1d72d-6a80-4a11-b820-a4d6c45c0919"
      },
      "execution_count": 4,
      "outputs": [
        {
          "output_type": "stream",
          "name": "stdout",
          "text": [
            "Titles: ['Revocation / indy-sdk proof verification fails after issuing a second or more credentials', '2019-03 license scanning results', 'Python Wrapper must be moved to hyperledger', 'Link URSA contributing guide once it exists.', 'No contributing guide.']\n",
            "Descriptions: [\"We are facing some issues with proofing credentials issued on cred defs with revocation support.\\r\\nWhen there's only one credential issued for the corresponding revoc reg everything is fine.\\r\\nBut if we issue another credential, every following proof is verified as false.\\r\\nAttached you can find some code, using mainly the indy sdk and also some functions from the Aries Framework for .NET.\\r\\n\\r\\nThis has already been discussed in the aries and ursa chatrooms and was beeing considered to be related to ursa.\", 'Issues to address from the latest software license scan. The attached .txt file has the notes, the attached .xls has the details, the attached .spdx file is for scripts to chew on.', 'Currently the code lives on [cam-parra/python-ursa|http://github.com/cam-parra/python-ursa]\\xa0should be live at hyperledger/python-ursa', 'Bug C-A to get [https://www.hyperledger.org/community/coding] updated with the URSA contributing guide, once it exists.', '[https://github.com/hyperledger/ursa/blob/master/CONTRIBUTING.md]\\r\\n\\r\\nlinks to\\r\\n\\r\\n[https://github.com/hyperledger/ursa/blob/master/docs/source/community/contributing.rst]\\r\\n\\r\\nwhich is 404']\n"
          ]
        }
      ]
    },
    {
      "cell_type": "code",
      "source": [
        "data = list(zip(titles, descriptions))"
      ],
      "metadata": {
        "id": "ycTZU2vwBzle"
      },
      "execution_count": 5,
      "outputs": []
    },
    {
      "cell_type": "code",
      "source": [
        "print(data[:1])"
      ],
      "metadata": {
        "colab": {
          "base_uri": "https://localhost:8080/"
        },
        "id": "jfL25SlLB2Tn",
        "outputId": "76993209-89d5-4420-dc20-0a10b3c3cf91"
      },
      "execution_count": 6,
      "outputs": [
        {
          "output_type": "stream",
          "name": "stdout",
          "text": [
            "[('Revocation / indy-sdk proof verification fails after issuing a second or more credentials', \"We are facing some issues with proofing credentials issued on cred defs with revocation support.\\r\\nWhen there's only one credential issued for the corresponding revoc reg everything is fine.\\r\\nBut if we issue another credential, every following proof is verified as false.\\r\\nAttached you can find some code, using mainly the indy sdk and also some functions from the Aries Framework for .NET.\\r\\n\\r\\nThis has already been discussed in the aries and ursa chatrooms and was beeing considered to be related to ursa.\")]\n"
          ]
        }
      ]
    },
    {
      "cell_type": "code",
      "source": [
        "# Tokenize the titles\n",
        "title_tokens = tokenizer(titles, padding=True, truncation=True, return_tensors=\"pt\")\n",
        "\n",
        "# Tokenize the descriptions\n",
        "description_tokens = tokenizer(descriptions, padding=True, truncation=True, return_tensors=\"pt\")"
      ],
      "metadata": {
        "id": "LGrH-ePuAM-E"
      },
      "execution_count": 7,
      "outputs": []
    },
    {
      "cell_type": "code",
      "source": [
        "!pip install torch"
      ],
      "metadata": {
        "colab": {
          "base_uri": "https://localhost:8080/"
        },
        "id": "7EL0xHD-DgJ8",
        "outputId": "b1072d4b-c566-4a58-d831-94d3bd95f7f8"
      },
      "execution_count": 8,
      "outputs": [
        {
          "output_type": "stream",
          "name": "stdout",
          "text": [
            "Requirement already satisfied: torch in /usr/local/lib/python3.10/dist-packages (2.0.1+cu118)\n",
            "Requirement already satisfied: filelock in /usr/local/lib/python3.10/dist-packages (from torch) (3.12.2)\n",
            "Requirement already satisfied: typing-extensions in /usr/local/lib/python3.10/dist-packages (from torch) (4.7.1)\n",
            "Requirement already satisfied: sympy in /usr/local/lib/python3.10/dist-packages (from torch) (1.11.1)\n",
            "Requirement already satisfied: networkx in /usr/local/lib/python3.10/dist-packages (from torch) (3.1)\n",
            "Requirement already satisfied: jinja2 in /usr/local/lib/python3.10/dist-packages (from torch) (3.1.2)\n",
            "Requirement already satisfied: triton==2.0.0 in /usr/local/lib/python3.10/dist-packages (from torch) (2.0.0)\n",
            "Requirement already satisfied: cmake in /usr/local/lib/python3.10/dist-packages (from triton==2.0.0->torch) (3.25.2)\n",
            "Requirement already satisfied: lit in /usr/local/lib/python3.10/dist-packages (from triton==2.0.0->torch) (16.0.6)\n",
            "Requirement already satisfied: MarkupSafe>=2.0 in /usr/local/lib/python3.10/dist-packages (from jinja2->torch) (2.1.3)\n",
            "Requirement already satisfied: mpmath>=0.19 in /usr/local/lib/python3.10/dist-packages (from sympy->torch) (1.3.0)\n"
          ]
        }
      ]
    },
    {
      "cell_type": "code",
      "source": [
        "import torch\n",
        "\n",
        "# Generate embeddings for titles and descriptions using the model\n",
        "with torch.no_grad():\n",
        "    title_embeddings = model(**title_tokens).last_hidden_state[:, 0, :].numpy()\n",
        "    description_embeddings = model(**description_tokens).last_hidden_state[:, 0, :].numpy()\n",
        "\n",
        "# Calculate Cosine Similarity between title and description embeddings\n",
        "similarities = cosine_similarity(title_embeddings, description_embeddings)"
      ],
      "metadata": {
        "id": "XpKSMn01BEgB"
      },
      "execution_count": null,
      "outputs": []
    },
    {
      "cell_type": "code",
      "source": [],
      "metadata": {
        "id": "w7Uh9sjlDoLb"
      },
      "execution_count": null,
      "outputs": []
    }
  ]
}